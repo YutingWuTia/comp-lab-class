{
 "cells": [
  {
   "cell_type": "code",
   "execution_count": 1,
   "metadata": {},
   "outputs": [],
   "source": [
    "import os\n",
    "import sys\n",
    "import pandas as pd\n",
    "import numpy as np\n",
    "from rdkit import Chem\n",
    "from rdkit.Chem.Draw import IPythonConsole\n",
    "# sys.path.append('/Users/iwatobipen/develop/chemoenv/psikit/psikit/')"
   ]
  },
  {
   "cell_type": "code",
   "execution_count": 2,
   "metadata": {},
   "outputs": [],
   "source": [
    "from psikit import Psikit"
   ]
  },
  {
   "cell_type": "code",
   "execution_count": 3,
   "metadata": {},
   "outputs": [
    {
     "name": "stdout",
     "output_type": "stream",
     "text": [
      "\n",
      "  Memory set to  11.176 GiB by Python driver.\n",
      "  Threads set to 1 by Python driver.\n"
     ]
    }
   ],
   "source": [
    "# pk = Psikit()\n",
    "\"\"\"\n",
    "if running the cell in the original jupyter notebook: pk = Psikit()\n",
    "\n",
    "outcome:\n",
    "    Memory set to   3.725 GiB by Python driver.\n",
    "    Threads set to 4 by Python driver.\n",
    "Then in the next cell  \"pk.optimize()\" would though an error:\n",
    "    The kernel appears to have died. It will restart automatically.\n",
    "\"\"\"\n",
    "\n",
    "pk=Psikit(debug=True,threads=1,memory=12)"
   ]
  },
  {
   "cell_type": "code",
   "execution_count": null,
   "metadata": {},
   "outputs": [],
   "source": [
    "# Replace the smiles string for the molecule in the notebook with that for caffeine\n",
    "# pk.read_from_smiles('OC(=O)c1cnccc1')\n",
    "pk.read_from_smiles('CN1C=NC2=C1C(=O)N(C(=O)N2C)C')\n",
    "#pk\n",
    "\n",
    "pk.optimize()\n"
   ]
  },
  {
   "cell_type": "code",
   "execution_count": null,
   "metadata": {},
   "outputs": [],
   "source": [
    "pk.mol\n"
   ]
  },
  {
   "cell_type": "code",
   "execution_count": null,
   "metadata": {},
   "outputs": [],
   "source": [
    "#caculate chages\n",
    "print(pk.calc_resp_charges())\n",
    "print(pk.calc_mulliken_charges())\n",
    "print(pk.calc_lowdin_charges())"
   ]
  },
  {
   "cell_type": "code",
   "execution_count": null,
   "metadata": {},
   "outputs": [],
   "source": [
    "mol = pk.mol\n",
    "atoms = mol.GetAtoms()\n",
    "mol"
   ]
  },
  {
   "cell_type": "code",
   "execution_count": null,
   "metadata": {},
   "outputs": [],
   "source": [
    "data = {'Symbol':[atom.GetSymbol() for atom in atoms],\n",
    "        'RESP': [float(atom.GetProp('RESP')) for atom in atoms],\n",
    "        'MULLIKEN': [float(atom.GetProp('MULLIKEN')) for atom in atoms],\n",
    "       'LOWDIN':  [float(atom.GetProp('LOWDIN')) for atom in atoms]}"
   ]
  },
  {
   "cell_type": "code",
   "execution_count": null,
   "metadata": {},
   "outputs": [],
   "source": [
    "df = pd.DataFrame(data)"
   ]
  },
  {
   "cell_type": "code",
   "execution_count": null,
   "metadata": {},
   "outputs": [],
   "source": [
    "df.round(3)"
   ]
  },
  {
   "cell_type": "code",
   "execution_count": null,
   "metadata": {},
   "outputs": [],
   "source": [
    "%matplotlib inline\n",
    "import matplotlib.pyplot as plt"
   ]
  },
  {
   "cell_type": "code",
   "execution_count": null,
   "metadata": {},
   "outputs": [],
   "source": [
    "plt.style.use('ggplot')"
   ]
  },
  {
   "cell_type": "code",
   "execution_count": null,
   "metadata": {},
   "outputs": [],
   "source": [
    "# RESP charge and MULLIKEN charge shows high correlation\n",
    "plt.scatter(df.RESP, df.MULLIKEN)\n",
    "plt.xlabel('RESP')\n",
    "plt.ylabel('MULLIKEN')\n",
    "plt.plot(np.arange(-1.0, 1.0, 0.01), np.arange(-1.0, 1.0, 0.01), c='b')"
   ]
  },
  {
   "cell_type": "code",
   "execution_count": null,
   "metadata": {},
   "outputs": [],
   "source": [
    "plt.scatter(df.RESP, df.LOWDIN)\n",
    "plt.xlabel('RESP')\n",
    "plt.ylabel('LOWDIN')\n",
    "plt.plot(np.arange(-1.0, 1.0, 0.01), np.arange(-1.0, 1.0, 0.01), c='b')"
   ]
  },
  {
   "cell_type": "code",
   "execution_count": null,
   "metadata": {},
   "outputs": [],
   "source": [
    "plt.scatter(df.MULLIKEN, df.LOWDIN)\n",
    "plt.xlabel('MULLIKEN')\n",
    "plt.ylabel('LOWDIN')\n",
    "plt.plot(np.arange(-1.0, 1.0, 0.01), np.arange(-1.0, 1.0, 0.01), c='b')"
   ]
  },
  {
   "cell_type": "code",
   "execution_count": null,
   "metadata": {},
   "outputs": [],
   "source": [
    "\n",
    "from rdkit import Chem\n",
    "from rdkit.Chem import AllChem\n",
    "from rdkit.Chem.Draw import IPythonConsole\n",
    "IPythonConsole.molSize = 300,300\n"
   ]
  },
  {
   "cell_type": "code",
   "execution_count": null,
   "metadata": {},
   "outputs": [],
   "source": [
    "\n",
    "for at in pk.mol.GetAtoms():\n",
    "    lbl = '%.2f'%(float(at.GetProp(\"RESP\")))\n",
    "    at.SetProp('atomNote',lbl)\n",
    "mol\n"
   ]
  }
 ],
 "metadata": {
  "kernelspec": {
   "display_name": "lab_env",
   "language": "python",
   "name": "lab_env"
  },
  "language_info": {
   "codemirror_mode": {
    "name": "ipython",
    "version": 3
   },
   "file_extension": ".py",
   "mimetype": "text/x-python",
   "name": "python",
   "nbconvert_exporter": "python",
   "pygments_lexer": "ipython3",
   "version": "3.9.12"
  }
 },
 "nbformat": 4,
 "nbformat_minor": 2
}
