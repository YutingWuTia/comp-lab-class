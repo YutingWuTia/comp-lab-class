{
 "cells": [
  {
   "cell_type": "markdown",
   "metadata": {},
   "source": [
    "# Week2--Assignment 5"
   ]
  },
  {
   "cell_type": "markdown",
   "metadata": {},
   "source": [
    "### a) read in the ubiquitin structure"
   ]
  },
  {
   "cell_type": "code",
   "execution_count": 1,
   "metadata": {},
   "outputs": [],
   "source": [
    "import numpy as np\n",
    "\n"
   ]
  },
  {
   "cell_type": "code",
   "execution_count": 2,
   "metadata": {},
   "outputs": [],
   "source": [
    "from __future__ import print_function\n",
    "import matplotlib.pyplot as plt\n",
    "import itertools\n",
    "import mdtraj as md\n",
    "import mdtraj.testing"
   ]
  },
  {
   "cell_type": "code",
   "execution_count": 3,
   "metadata": {},
   "outputs": [
    {
     "name": "stdout",
     "output_type": "stream",
     "text": [
      "<mdtraj.Trajectory with 1 frames, 1405 atoms, 134 residues, and unitcells>\n"
     ]
    }
   ],
   "source": [
    "t = md.load_pdb('../Data/1UBQ_processed.pdb')\n",
    "print(t)"
   ]
  },
  {
   "cell_type": "markdown",
   "metadata": {},
   "source": [
    "### b) print the total number of hydrogen bonds"
   ]
  },
  {
   "cell_type": "code",
   "execution_count": 4,
   "metadata": {},
   "outputs": [
    {
     "name": "stdout",
     "output_type": "stream",
     "text": [
      "the Number of Hydrogen Bounds is  57\n",
      "[[   0    3  285]\n",
      " [  36   37  254]\n",
      " [  55   56 1044]\n",
      " [  75   76  221]\n",
      " [  91   92 1077]\n",
      " [ 113  114  188]\n",
      " [ 146  147  119]\n",
      " [ 160  161  126]\n",
      " [ 203  204   90]\n",
      " [ 236  237   54]\n",
      " [ 270  271   18]\n",
      " [ 286  287  335]\n",
      " [ 326  327  300]\n",
      " [ 352  353  869]\n",
      " [ 371  372  838]\n",
      " [ 386  387  344]\n",
      " [ 386  387  351]\n",
      " [ 400  401  351]\n",
      " [ 416  417  370]\n",
      " [ 432  434  836]\n",
      " [ 438  439  385]\n",
      " [ 448  449  399]\n",
      " [ 464  466  269]\n",
      " [ 470  471  415]\n",
      " [ 489  490  437]\n",
      " [ 506  507  447]\n",
      " [ 518  519  469]\n",
      " [ 540  541  488]\n",
      " [ 555  556  505]\n",
      " [ 621  622  594]\n",
      " [ 638  639  608]\n",
      " [ 650  651  580]\n",
      " [ 650  652  437]\n",
      " [ 655  656 1129]\n",
      " [ 668  669  788]\n",
      " [ 698  699 1094]\n",
      " [ 717  718  775]\n",
      " [ 754  755  736]\n",
      " [ 793  794  697]\n",
      " [ 812  813  939]\n",
      " [ 846  847  826]\n",
      " [ 870  871  922]\n",
      " [ 884  885  337]\n",
      " [ 903  904  314]\n",
      " [ 914  915  876]\n",
      " [ 914  915  883]\n",
      " [ 926  927  902]\n",
      " [ 947  948  913]\n",
      " [ 961  962  902]\n",
      " [1019 1020   35]\n",
      " [1034 1035  996]\n",
      " [1059 1060   74]\n",
      " [1078 1079  716]\n",
      " [1095 1096  112]\n",
      " [1114 1115  678]\n",
      " [1149 1150  637]\n",
      " [1168 1169  654]]\n"
     ]
    }
   ],
   "source": [
    "# find out the Hydrogen Bounds with criterion: \n",
    "# $\\theta > 120$ and $r_\\text{H...Acceptor} < 2.5 A$ in at least 10% of the trajectory\n",
    "# 'hbonds' is a list of the indices of the atoms (donor, h, acceptor) that satisfy this criteria\n",
    "hbonds = md.baker_hubbard(t, periodic=False)\n",
    "print(\"the Number of Hydrogen Bounds is \",len(hbonds))\n",
    "print(hbonds)\n",
    "\n",
    "\n"
   ]
  },
  {
   "cell_type": "code",
   "execution_count": 5,
   "metadata": {},
   "outputs": [
    {
     "name": "stdout",
     "output_type": "stream",
     "text": [
      "MET1-N -- VAL17-O\n",
      "ILE3-N -- LEU15-O\n",
      "PHE4-N -- SER65-O\n",
      "VAL5-N -- ILE13-O\n",
      "LYS6-N -- LEU67-O\n",
      "THR7-N -- LYS11-O\n",
      "THR9-N -- THR7-OG1\n",
      "GLY10-N -- THR7-O\n",
      "ILE13-N -- VAL5-O\n",
      "LEU15-N -- ILE3-O\n",
      "VAL17-N -- MET1-O\n",
      "GLU18-N -- ASP21-OD2\n",
      "ASP21-N -- GLU18-O\n",
      "ILE23-N -- ARG54-O\n",
      "GLU24-N -- ASP52-O\n",
      "ASN25-N -- THR22-OG1\n",
      "ASN25-N -- THR22-O\n",
      "VAL26-N -- THR22-O\n",
      "LYS27-N -- ILE23-O\n",
      "LYS27-NZ -- ASP52-OD2\n",
      "ALA28-N -- GLU24-O\n",
      "LYS29-N -- ASN25-O\n",
      "LYS29-NZ -- GLU16-O\n",
      "ILE30-N -- VAL26-O\n",
      "GLN31-N -- LYS27-O\n",
      "ASP32-N -- ALA28-O\n",
      "LYS33-N -- LYS29-O\n",
      "GLU34-N -- ILE30-O\n",
      "GLY35-N -- GLN31-O\n",
      "GLN40-N -- PRO37-O\n",
      "GLN41-N -- PRO38-O\n",
      "GLN41-NE2 -- ILE36-O\n",
      "GLN41-NE2 -- LYS27-O\n",
      "ARG42-N -- VAL70-O\n",
      "ARG42-NE -- GLN49-NE2\n",
      "ILE44-N -- HIS68-O\n",
      "PHE45-N -- LYS48-O\n",
      "LYS48-N -- PHE45-O\n",
      "LEU50-N -- LEU43-O\n",
      "GLU51-N -- TYR59-OH\n",
      "ARG54-N -- GLU51-O\n",
      "THR55-N -- ASP58-OD1\n",
      "LEU56-N -- ASP21-O\n",
      "SER57-N -- PRO19-O\n",
      "ASP58-N -- THR55-OG1\n",
      "ASP58-N -- THR55-O\n",
      "TYR59-N -- LEU56-O\n",
      "ASN60-N -- SER57-O\n",
      "ILE61-N -- LEU56-O\n",
      "GLU64-N -- GLN2-O\n",
      "SER65-N -- GLN62-O\n",
      "LEU67-N -- PHE4-O\n",
      "HIS68-N -- ILE44-O\n",
      "LEU69-N -- LYS6-O\n",
      "VAL70-N -- ARG42-O\n",
      "ARG72-N -- GLN40-O\n",
      "ARG72-NH2 -- GLN41-O\n",
      "the Number of Hydrogen Bounds is  57\n"
     ]
    }
   ],
   "source": [
    "# method2: count the number of Hydrogen Bounds with a for loop, lable them at the same time\n",
    "label = lambda hbond : '%s -- %s' % (t.topology.atom(hbond[0]), t.topology.atom(hbond[2]))\n",
    "Num_hbonds = 0\n",
    "\n",
    "for hbond in hbonds:\n",
    "    Num_hbonds += 1\n",
    "    print(label(hbond))\n",
    "print(\"the Number of Hydrogen Bounds is \",Num_hbonds)"
   ]
  },
  {
   "cell_type": "markdown",
   "metadata": {},
   "source": [
    "### c) compute the number of helical amino acids"
   ]
  },
  {
   "cell_type": "code",
   "execution_count": 6,
   "metadata": {},
   "outputs": [
    {
     "data": {
      "text/plain": [
       "array([['C', 'E', 'E', 'E', 'E', 'E', 'E', 'C', 'C', 'C', 'C', 'E', 'E',\n",
       "        'E', 'E', 'E', 'C', 'C', 'C', 'C', 'C', 'E', 'H', 'H', 'H', 'H',\n",
       "        'H', 'H', 'H', 'H', 'H', 'H', 'H', 'H', 'C', 'C', 'C', 'H', 'H',\n",
       "        'H', 'E', 'E', 'E', 'E', 'E', 'C', 'C', 'E', 'E', 'C', 'C', 'C',\n",
       "        'C', 'C', 'E', 'C', 'H', 'H', 'H', 'C', 'C', 'C', 'C', 'C', 'C',\n",
       "        'E', 'E', 'E', 'E', 'E', 'E', 'C', 'C', 'C', 'C', 'C', 'NA',\n",
       "        'NA', 'NA', 'NA', 'NA', 'NA', 'NA', 'NA', 'NA', 'NA', 'NA', 'NA',\n",
       "        'NA', 'NA', 'NA', 'NA', 'NA', 'NA', 'NA', 'NA', 'NA', 'NA', 'NA',\n",
       "        'NA', 'NA', 'NA', 'NA', 'NA', 'NA', 'NA', 'NA', 'NA', 'NA', 'NA',\n",
       "        'NA', 'NA', 'NA', 'NA', 'NA', 'NA', 'NA', 'NA', 'NA', 'NA', 'NA',\n",
       "        'NA', 'NA', 'NA', 'NA', 'NA', 'NA', 'NA', 'NA', 'NA', 'NA', 'NA',\n",
       "        'NA', 'NA']], dtype='<U2')"
      ]
     },
     "execution_count": 6,
     "metadata": {},
     "output_type": "execute_result"
    }
   ],
   "source": [
    "# Compute Dictionary of protein secondary structure (DSSP) secondary structure assignments\n",
    "DSSP = mdtraj.compute_dssp(t, simplified=True)\n",
    "# 'simplified=True' means we use the simplified DSSP codes: (1)‘H’ : Helix (2)‘E’: Strand (3)‘C’: Coil (4)'NA':‘residue’ in the topology which isn’t actually a protein residue\n",
    "DSSP\n",
    "#DSSP.shape"
   ]
  },
  {
   "cell_type": "code",
   "execution_count": 7,
   "metadata": {},
   "outputs": [
    {
     "data": {
      "text/plain": [
       "{'C': 32, 'E': 26, 'H': 18, 'NA': 58}"
      ]
     },
     "execution_count": 7,
     "metadata": {},
     "output_type": "execute_result"
    }
   ],
   "source": [
    "# calculate the number of different residues\n",
    "unique, counts = np.unique(DSSP, return_counts=True)\n",
    "Statistics=dict(zip(unique, counts))\n",
    "Statistics"
   ]
  },
  {
   "cell_type": "markdown",
   "metadata": {},
   "source": [
    "there are 18 helix residues(helical amino acids)"
   ]
  }
 ],
 "metadata": {
  "kernelspec": {
   "display_name": "lab_env",
   "language": "python",
   "name": "lab_env"
  },
  "language_info": {
   "codemirror_mode": {
    "name": "ipython",
    "version": 3
   },
   "file_extension": ".py",
   "mimetype": "text/x-python",
   "name": "python",
   "nbconvert_exporter": "python",
   "pygments_lexer": "ipython3",
   "version": "3.9.12"
  }
 },
 "nbformat": 4,
 "nbformat_minor": 4
}
