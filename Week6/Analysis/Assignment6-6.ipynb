{
 "cells": [
  {
   "cell_type": "code",
   "execution_count": null,
   "metadata": {},
   "outputs": [],
   "source": [
    "Run at least 10 ns and check convergence of the FES with sum_hills. Is your bias factor and height okay or do you need to change it? Or run longer?\n",
    "sum_hills should produce a grid file which you can plot with imshow. Make a free energy surface with labeled axes and color bar. This time, add contour lines. This should look more like a surface than from replica exchange!\n",
    "Bonus: If you use the --stride function to get many surfaces, can you make an animated gif of the free energy surface filling in?\n"
   ]
  },
  {
   "cell_type": "code",
   "execution_count": null,
   "metadata": {},
   "outputs": [],
   "source": [
    "# import libraries\n",
    "import numpy as np\n",
    "import matplotlib.pyplot as plt"
   ]
  },
  {
   "cell_type": "code",
   "execution_count": null,
   "metadata": {},
   "outputs": [],
   "source": [
    "# load data\n",
    "phi_fesdat1, freeE_fesdat1, der_phi_fesdat1 = np.loadtxt(\"/home/yw5806/comp-class/comp-lab-class/Week6/Inputs/assignment_3/StrideHills/adp.fes.dat1.dat\", skiprows=5, unpack=True)\n",
    "phi_fesdat3, freeE_fesdat3, der_phi_fesdat3 = np.loadtxt(\"/home/yw5806/comp-class/comp-lab-class/Week6/Inputs/assignment_3/StrideHills/adp.fes.dat3.dat\", skiprows=5, unpack=True)\n",
    "phi_fesdat10, freeE_fesdat10, der_phi_fesdat10 = np.loadtxt(\"/home/yw5806/comp-class/comp-lab-class/Week6/Inputs/assignment_3/StrideHills/adp.fes.dat10.dat\", skiprows=5, unpack=True)\n",
    "phi_fesdat20, freeE_fesdat20, der_phi_fesdat20 = np.loadtxt(\"/home/yw5806/comp-class/comp-lab-class/Week6/Inputs/assignment_3/StrideHills/adp.fes.dat20.dat\", skiprows=5, unpack=True)\n",
    "phi_fesdat50, freeE_fesdat50, der_phi_fesdat50 = np.loadtxt(\"/home/yw5806/comp-class/comp-lab-class/Week6/Inputs/assignment_3/StrideHills/adp.fes.dat50.dat\", skiprows=5, unpack=True)\n",
    "phi_fesdat100, freeE_fesdat100, der_phi_fesdat100 = np.loadtxt(\"/home/yw5806/comp-class/comp-lab-class/Week6/Inputs/assignment_3/StrideHills/adp.fes.dat100.dat\", skiprows=5, unpack=True)\n",
    "\n",
    "# check data we are going to plot\n",
    "print('phi_all:', phi_all.shape)\n",
    "print('freeE_all:', freeE_all.shape)\n",
    "\n",
    "print('phi_fesdat1:', phi_fesdat1.shape)\n",
    "print('freeE_fesdat1:', freeE_fesdat1.shape)\n",
    "\n",
    "print('phi_fesdat10:', phi_fesdat1.shape)\n",
    "print('freeE_fesdat10:', freeE_fesdat1.shape)\n",
    "\n",
    "print('phi_fesdat100:', phi_fesdat1.shape)\n",
    "print('freeE_fesdat100:', freeE_fesdat1.shape)"
   ]
  },
  {
   "cell_type": "code",
   "execution_count": null,
   "metadata": {},
   "outputs": [],
   "source": [
    "#define colors to use\n",
    "colors = ['r', 'g', 'b', 'violet', 'aqua', 'black']                   \n",
    "fig=plt.figure(2)\n",
    "\n",
    "# plot\n",
    "plt.plot(phi_fesdat1, freeE_fesdat1, color=colors[0], label='0.1 ns')\n",
    "plt.plot(phi_fesdat3, freeE_fesdat3, color=colors[1], label='0.3 ns')\n",
    "plt.plot(phi_fesdat10, freeE_fesdat10, color=colors[2], label='1 ns')\n",
    "plt.plot(phi_fesdat20, freeE_fesdat20, color=colors[3], label='2 ns')\n",
    "plt.plot(phi_fesdat50, freeE_fesdat50, color=colors[4], label='5 ns')\n",
    "plt.plot(phi_fesdat100, freeE_fesdat100, color=colors[5], label='10 ns')\n",
    "# legend\n",
    "plt.legend(fontsize=12)\n",
    "# set all labels\n",
    "plt.xlabel(r'$\\phi$ (rad)', fontsize=12)\n",
    "plt.ylabel('Free energy (kJ/mol)', fontsize=12)\n",
    "\n",
    "# set all titles\n",
    "plt.text(x=0.5, y=1, s=\"Estimates of the free energy\", fontsize=18, ha=\"center\", transform=fig.transFigure)\n",
    "plt.text(x=0.5, y=0.95, s= \"Calculated every 100 Gaussian kernels deposited\", fontsize=11, ha=\"center\", transform=fig.transFigure)\n",
    "\n",
    "# save figure\n",
    "plt.savefig(\"../Figures/ADP_FreeEnergy_StrideHills.pdf\",format=\"pdf\")\n",
    "print(\"Plot saved: ../Figures/ADP_FreeEnergy_StrideHills.pdf\")\n",
    "plt.show()"
   ]
  }
 ],
 "metadata": {
  "kernelspec": {
   "display_name": "Python 3",
   "language": "python",
   "name": "python3"
  },
  "language_info": {
   "codemirror_mode": {
    "name": "ipython",
    "version": 3
   },
   "file_extension": ".py",
   "mimetype": "text/x-python",
   "name": "python",
   "nbconvert_exporter": "python",
   "pygments_lexer": "ipython3",
   "version": "3.8.6"
  }
 },
 "nbformat": 4,
 "nbformat_minor": 4
}
